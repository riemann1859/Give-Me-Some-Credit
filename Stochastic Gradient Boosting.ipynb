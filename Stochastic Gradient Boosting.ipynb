{
 "cells": [
  {
   "cell_type": "code",
   "execution_count": 1,
   "metadata": {},
   "outputs": [],
   "source": [
    "import pandas as pd\n",
    "import numpy as np\n",
    "import matplotlib.pyplot as plt\n",
    "import seaborn as sns\n",
    "sns.set_style('darkgrid')\n"
   ]
  },
  {
   "cell_type": "code",
   "execution_count": 2,
   "metadata": {},
   "outputs": [],
   "source": [
    "add=\"ready_to_be_trained.csv\"\n",
    "\n",
    "df=pd.read_csv(add, header=0, sep=',')\n"
   ]
  },
  {
   "cell_type": "code",
   "execution_count": 3,
   "metadata": {},
   "outputs": [],
   "source": [
    "df.drop(labels='Unnamed: 0', axis=1, inplace=True)\n"
   ]
  },
  {
   "cell_type": "code",
   "execution_count": 4,
   "metadata": {},
   "outputs": [],
   "source": [
    "train=df[df.SeriousDlqin2yrs.notnull()]\n",
    "test=df[df.SeriousDlqin2yrs.isnull()]"
   ]
  },
  {
   "cell_type": "code",
   "execution_count": 5,
   "metadata": {},
   "outputs": [
    {
     "name": "stderr",
     "output_type": "stream",
     "text": [
      "D:\\Anaconda3\\lib\\site-packages\\pandas\\core\\indexing.py:543: SettingWithCopyWarning: \n",
      "A value is trying to be set on a copy of a slice from a DataFrame.\n",
      "Try using .loc[row_indexer,col_indexer] = value instead\n",
      "\n",
      "See the caveats in the documentation: http://pandas.pydata.org/pandas-docs/stable/indexing.html#indexing-view-versus-copy\n",
      "  self.obj[item] = s\n"
     ]
    }
   ],
   "source": [
    "train.loc[:,'SeriousDlqin2yrs']=train['SeriousDlqin2yrs'].astype(int)"
   ]
  },
  {
   "cell_type": "code",
   "execution_count": 6,
   "metadata": {},
   "outputs": [],
   "source": [
    "from xgboost import XGBClassifier\n",
    "from sklearn.model_selection import train_test_split\n",
    "from sklearn.metrics import accuracy_score"
   ]
  },
  {
   "cell_type": "code",
   "execution_count": 7,
   "metadata": {},
   "outputs": [],
   "source": [
    "X_train, X_test, y_train, y_test = train_test_split(train.iloc[:,1:].values, train.SeriousDlqin2yrs.values, stratify=train.SeriousDlqin2yrs.values, test_size=0.33, random_state=42)"
   ]
  },
  {
   "cell_type": "code",
   "execution_count": 8,
   "metadata": {},
   "outputs": [],
   "source": [
    "best_iterations=[]\n",
    "best_scores=[]\n",
    "for lr in [1,0.1,0.01,0.001]:\n",
    "    model=XGBClassifier(n_estimators=20000, learning_rate=lr)\n",
    "    eval_set=[(X_test,  y_test )]\n",
    "    model.fit(X_train,y_train, early_stopping_rounds=30, eval_metric=\"logloss\", eval_set=eval_set, verbose=False)\n",
    "    best_iterations.append(model.best_iteration)\n",
    "    best_scores.append(model.best_score)\n",
    "    "
   ]
  },
  {
   "cell_type": "code",
   "execution_count": 9,
   "metadata": {},
   "outputs": [
    {
     "data": {
      "text/plain": [
       "[0.180311, 0.177472, 0.177431, 0.177544]"
      ]
     },
     "execution_count": 9,
     "metadata": {},
     "output_type": "execute_result"
    }
   ],
   "source": [
    "best_scores"
   ]
  },
  {
   "cell_type": "code",
   "execution_count": 10,
   "metadata": {},
   "outputs": [
    {
     "data": {
      "text/plain": [
       "[11, 236, 1764, 13892]"
      ]
     },
     "execution_count": 10,
     "metadata": {},
     "output_type": "execute_result"
    }
   ],
   "source": [
    "best_iterations"
   ]
  },
  {
   "cell_type": "code",
   "execution_count": 11,
   "metadata": {},
   "outputs": [],
   "source": [
    "best_iterations=[]\n",
    "best_scores=[]\n",
    "for mf in [0.3,0.5,0.7,1]:\n",
    "    model=XGBClassifier(n_estimators=3000,colsample_bytree=mf, learning_rate=0.01)\n",
    "    eval_set=[(X_test,  y_test )]\n",
    "    model.fit(X_train,y_train, early_stopping_rounds=30, eval_metric=\"logloss\", eval_set=eval_set, verbose=False)\n",
    "    best_iterations.append(model.best_iteration)\n",
    "    best_scores.append(model.best_score)\n",
    "    "
   ]
  },
  {
   "cell_type": "code",
   "execution_count": 12,
   "metadata": {},
   "outputs": [
    {
     "data": {
      "text/plain": [
       "[2219, 1862, 1759, 1764]"
      ]
     },
     "execution_count": 12,
     "metadata": {},
     "output_type": "execute_result"
    }
   ],
   "source": [
    "best_iterations"
   ]
  },
  {
   "cell_type": "code",
   "execution_count": 13,
   "metadata": {},
   "outputs": [
    {
     "data": {
      "text/plain": [
       "[0.17744, 0.177374, 0.177398, 0.177431]"
      ]
     },
     "execution_count": 13,
     "metadata": {},
     "output_type": "execute_result"
    }
   ],
   "source": [
    "best_scores"
   ]
  },
  {
   "cell_type": "code",
   "execution_count": 14,
   "metadata": {},
   "outputs": [],
   "source": [
    "best_iterations=[]\n",
    "best_scores=[]\n",
    "for ss in [0.5,0.8,1]:\n",
    "    model=XGBClassifier(n_estimators=3000,colsample_bytree=0.5, subsample=ss, learning_rate=0.01)\n",
    "    eval_set=[(X_test,  y_test )]\n",
    "    model.fit(X_train,y_train, early_stopping_rounds=30, eval_metric=\"logloss\", eval_set=eval_set, verbose=False)\n",
    "    best_iterations.append(model.best_iteration)\n",
    "    best_scores.append(model.best_score)"
   ]
  },
  {
   "cell_type": "code",
   "execution_count": 15,
   "metadata": {},
   "outputs": [
    {
     "data": {
      "text/plain": [
       "[1525, 1905, 1862]"
      ]
     },
     "execution_count": 15,
     "metadata": {},
     "output_type": "execute_result"
    }
   ],
   "source": [
    "best_iterations"
   ]
  },
  {
   "cell_type": "code",
   "execution_count": 16,
   "metadata": {},
   "outputs": [
    {
     "data": {
      "text/plain": [
       "[0.177174, 0.177096, 0.177374]"
      ]
     },
     "execution_count": 16,
     "metadata": {},
     "output_type": "execute_result"
    }
   ],
   "source": [
    "best_scores"
   ]
  },
  {
   "cell_type": "code",
   "execution_count": 17,
   "metadata": {},
   "outputs": [],
   "source": [
    "best_iterations=[]\n",
    "best_scores=[]\n",
    "for md in [1,3,6,9,12]:\n",
    "    model=XGBClassifier(n_estimators=4000,colsample_bytree=0.5, subsample=0.8, max_depth=md, learning_rate=0.01)\n",
    "    eval_set=[(X_test,  y_test )]\n",
    "    model.fit(X_train,y_train, early_stopping_rounds=30, eval_metric=\"logloss\", eval_set=eval_set, verbose=False)\n",
    "    best_iterations.append(model.best_iteration)\n",
    "    best_scores.append(model.best_score)"
   ]
  },
  {
   "cell_type": "code",
   "execution_count": 18,
   "metadata": {},
   "outputs": [
    {
     "data": {
      "text/plain": [
       "[3999, 1905, 930, 660, 546]"
      ]
     },
     "execution_count": 18,
     "metadata": {},
     "output_type": "execute_result"
    }
   ],
   "source": [
    "best_iterations"
   ]
  },
  {
   "cell_type": "code",
   "execution_count": 19,
   "metadata": {},
   "outputs": [
    {
     "data": {
      "text/plain": [
       "[0.180535, 0.177096, 0.177015, 0.17761, 0.178727]"
      ]
     },
     "execution_count": 19,
     "metadata": {},
     "output_type": "execute_result"
    }
   ],
   "source": [
    "best_scores"
   ]
  },
  {
   "cell_type": "code",
   "execution_count": 20,
   "metadata": {},
   "outputs": [],
   "source": [
    "best_iterations=[]\n",
    "best_scores=[]\n",
    "for ni in [1,3,5,7,9]:\n",
    "    model=XGBClassifier(n_estimators=3000,colsample_bytree=0.5, subsample=0.8, max_depth=6, min_child_weight=ni, learning_rate=0.01)\n",
    "    eval_set=[(X_test,  y_test )]\n",
    "    model.fit(X_train,y_train, early_stopping_rounds=30, eval_metric=\"logloss\", eval_set=eval_set, verbose=False)\n",
    "    best_iterations.append(model.best_iteration)\n",
    "    best_scores.append(model.best_score)"
   ]
  },
  {
   "cell_type": "code",
   "execution_count": 21,
   "metadata": {},
   "outputs": [
    {
     "data": {
      "text/plain": [
       "[930, 930, 1018, 1000, 931]"
      ]
     },
     "execution_count": 21,
     "metadata": {},
     "output_type": "execute_result"
    }
   ],
   "source": [
    "best_iterations"
   ]
  },
  {
   "cell_type": "code",
   "execution_count": 22,
   "metadata": {},
   "outputs": [
    {
     "data": {
      "text/plain": [
       "[0.177015, 0.17698, 0.176988, 0.176944, 0.177002]"
      ]
     },
     "execution_count": 22,
     "metadata": {},
     "output_type": "execute_result"
    }
   ],
   "source": [
    "best_scores"
   ]
  },
  {
   "cell_type": "code",
   "execution_count": 28,
   "metadata": {},
   "outputs": [],
   "source": [
    "model=XGBClassifier(n_estimators=1018,colsample_bytree=0.5, subsample=0.8, max_depth=6, min_child_weight=3, learning_rate=0.01)\n",
    "model.fit(train.iloc[:,1:].values, train.SeriousDlqin2yrs.values)\n",
    "\n",
    "preds=model.predict_proba(test.iloc[:,1:].values)\n",
    "preds_df=pd.DataFrame({'Probability':preds[:,1]},index=range(1,101504))\n",
    "preds_df.index.name='Id'\n",
    "preds_df.to_csv('predictions3.csv')"
   ]
  },
  {
   "cell_type": "code",
   "execution_count": null,
   "metadata": {},
   "outputs": [],
   "source": []
  }
 ],
 "metadata": {
  "kernelspec": {
   "display_name": "Python 3",
   "language": "python",
   "name": "python3"
  },
  "language_info": {
   "codemirror_mode": {
    "name": "ipython",
    "version": 3
   },
   "file_extension": ".py",
   "mimetype": "text/x-python",
   "name": "python",
   "nbconvert_exporter": "python",
   "pygments_lexer": "ipython3",
   "version": "3.6.4"
  }
 },
 "nbformat": 4,
 "nbformat_minor": 2
}
