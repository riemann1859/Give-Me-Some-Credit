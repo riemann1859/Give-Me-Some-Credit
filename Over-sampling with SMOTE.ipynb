{
 "cells": [
  {
   "cell_type": "markdown",
   "metadata": {},
   "source": [
    "The classifier built from a data set with a\n",
    "highly skewed class distribution generally predicts the\n",
    "more frequently occurring classes much more often than\n",
    "the infrequently occurring classes. This is largely due to\n",
    "the fact that most classifiers are designed to maximize\n",
    "accuracy. In many instances, such as for medical diagnosis, fraud detection,  this classification behavior is unacceptable because\n",
    "the minority class is the class of primary interest (i.e., it\n",
    "has a much higher misclassification cost than the majority\n",
    "class). \n",
    "\n",
    "One common way to tackle the issue of imbalanced data is over-sampling. Over-sampling refers to various methods that aim to increase the number of instances from the underrepresented class in the data set. In our case, these techniques will increase the number of people that  will experience financial distress in the next two years. We compare our results by not only accuracy_score but also recall_metric, which is TP/(TP+FN)."
   ]
  },
  {
   "cell_type": "code",
   "execution_count": 31,
   "metadata": {},
   "outputs": [],
   "source": [
    "import pandas as pd\n",
    "import numpy as np\n",
    "import matplotlib.pyplot as plt\n",
    "import seaborn as sns\n",
    "sns.set_style('darkgrid')\n"
   ]
  },
  {
   "cell_type": "code",
   "execution_count": 32,
   "metadata": {},
   "outputs": [],
   "source": [
    "add=\"ready_to_be_trained.csv\"\n",
    "\n",
    "df=pd.read_csv(add, header=0, sep=',')\n"
   ]
  },
  {
   "cell_type": "code",
   "execution_count": 33,
   "metadata": {},
   "outputs": [],
   "source": [
    "df.drop(labels='Unnamed: 0', axis=1, inplace=True)\n"
   ]
  },
  {
   "cell_type": "code",
   "execution_count": 34,
   "metadata": {},
   "outputs": [
    {
     "name": "stderr",
     "output_type": "stream",
     "text": [
      "D:\\Anaconda3\\lib\\site-packages\\pandas\\core\\indexing.py:543: SettingWithCopyWarning: \n",
      "A value is trying to be set on a copy of a slice from a DataFrame.\n",
      "Try using .loc[row_indexer,col_indexer] = value instead\n",
      "\n",
      "See the caveats in the documentation: http://pandas.pydata.org/pandas-docs/stable/indexing.html#indexing-view-versus-copy\n",
      "  self.obj[item] = s\n"
     ]
    }
   ],
   "source": [ # Oversampling should be applied before splitting the data into two parts, train and test. Because otherwise 
              #due to too similar elements in both train and test data, we probably obtain misleading and high accuracy and recall scores
    "train=df[df.SeriousDlqin2yrs.notnull()]\n",
    "train.loc[:,'SeriousDlqin2yrs']=train['SeriousDlqin2yrs'].astype(int)\n",
    "from sklearn.model_selection import train_test_split\n",
    "X_train, X_test, y_train, y_test = train_test_split(train.iloc[:,1:].values, train.SeriousDlqin2yrs.values, stratify=train.SeriousDlqin2yrs.values, test_size=0.5, random_state=42)"
   ]
  },
  {
   "cell_type": "code",
   "execution_count": 35,
   "metadata": {},
   "outputs": [],
   "source": [
    "from sklearn.ensemble import RandomForestClassifier"
   ]
  },
  {
   "cell_type": "code",
   "execution_count": 36,
   "metadata": {},
   "outputs": [],
   "source": [
    "from imblearn.over_sampling import  SMOTENC\n",
    "\n",
    "# we should employ SMOTENC when data has categorical features, otherwise SMOTE is enough\n",
    "\n",
    "list_of_indices=[]  #collect column indices of categorical features \n",
    "for i,col in enumerate(train.columns):\n",
    "    if train[col].nunique()==2 and i>0:\n",
    "        list_of_indices.append(i-1)\n",
    "        \n",
    "\n"
   ]
  },
  {
   "cell_type": "code",
   "execution_count": 37,
   "metadata": {},
   "outputs": [],
   "source": [
    "from sklearn.metrics import accuracy_score"
   ]
  },
  {
   "cell_type": "code",
   "execution_count": 38,
   "metadata": {},
   "outputs": [],
   "source": [
    "from sklearn.metrics import recall_score"
   ]
  },
  {
   "cell_type": "code",
   "execution_count": 39,
   "metadata": {},
   "outputs": [],
   "source": [
    "labels=['without oversampling','k_neighbors=2','k_neighbors=3','k_neighbors=5','k_neighbors=7']\n",
    "acc_scores=[]\n",
    "recall_scores=[]\n",
    "\n",
    "for num in [0,2,3,5,7]:\n",
    "    if num==0:\n",
    "        rfc=RandomForestClassifier(n_estimators=300,max_features=5,min_samples_leaf=10)\n",
    "        rfc.fit(X_train, y_train)\n",
    "        preds=rfc.predict(X_test)\n",
    "        acc_scores.append(accuracy_score(y_test, preds))\n",
    "        recall_scores.append(recall_score(y_test, preds))\n",
    "    else:\n",
    "        X_resampled, y_resampled = SMOTENC(k_neighbors=num,categorical_features=list_of_indices).fit_resample(X_train, y_train)\n",
    "        rfc=RandomForestClassifier(n_estimators=300,max_features=5,min_samples_leaf=10)\n",
    "        rfc.fit(X_resampled, y_resampled)\n",
    "        preds=rfc.predict(X_test)\n",
    "        acc_scores.append(accuracy_score(y_test, preds))\n",
    "        recall_scores.append(recall_score(y_test, preds))\n",
    "        \n"
   ]
  },
  {
   "cell_type": "code",
   "execution_count": 40,
   "metadata": {},
   "outputs": [
    {
     "data": {
      "text/plain": [
       "([<matplotlib.axis.XTick at 0x1f680dfbe10>,\n",
       "  <matplotlib.axis.XTick at 0x1f680d89d68>,\n",
       "  <matplotlib.axis.XTick at 0x1f6808a1160>,\n",
       "  <matplotlib.axis.XTick at 0x1f680116828>,\n",
       "  <matplotlib.axis.XTick at 0x1f680edae10>],\n",
       " <a list of 5 Text xticklabel objects>)"
      ]
     },
     "execution_count": 40,
     "metadata": {},
     "output_type": "execute_result"
    },
    {
     "data": {
      "image/png": "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\n",
      "text/plain": [
       "<Figure size 1080x432 with 2 Axes>"
      ]
     },
     "metadata": {},
     "output_type": "display_data"
    }
   ],
   "source": [
    "plt.subplots(nrows=1,ncols=2,figsize=(15,6))\n",
    "plt.subplot(121)\n",
    "plt.bar(x=[0,1,2,3,4],height=acc_scores)\n",
    "plt.title('Accuracy scores')\n",
    "plt.xticks(range(5), labels, fontsize=15, rotation=70)\n",
    "\n",
    "plt.subplot(122)\n",
    "plt.bar(x=[0,1,2,3,4],height=recall_scores)\n",
    "plt.title('Recall scores')  \n",
    "plt.xticks(range(5), labels, fontsize=15, rotation=70)\n"
   ]
  },
  {
   "cell_type": "markdown",
   "metadata": {},
   "source": [
    "Although a little decrease in accuracy score, over-sampling provides substantial increase in recall scores, which compensate the decrease in overall accuracy."
   ]
  }
 ],
 "metadata": {
  "kernelspec": {
   "display_name": "Python 3",
   "language": "python",
   "name": "python3"
  },
  "language_info": {
   "codemirror_mode": {
    "name": "ipython",
    "version": 3
   },
   "file_extension": ".py",
   "mimetype": "text/x-python",
   "name": "python",
   "nbconvert_exporter": "python",
   "pygments_lexer": "ipython3",
   "version": "3.6.4"
  }
 },
 "nbformat": 4,
 "nbformat_minor": 2
}
